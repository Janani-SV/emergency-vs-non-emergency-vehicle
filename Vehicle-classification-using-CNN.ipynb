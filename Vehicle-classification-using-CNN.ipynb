{
 "cells": [
  {
   "cell_type": "markdown",
   "metadata": {},
   "source": [
    "# Emergency Vehicle Vs Non Emergency Vehicle from Scratch using CNN"
   ]
  },
  {
   "cell_type": "code",
   "execution_count": null,
   "metadata": {},
   "outputs": [],
   "source": [
    "# If autocompletion does not works , \n",
    "%config Completer.use_jedi = False"
   ]
  },
  {
   "cell_type": "code",
   "execution_count": 31,
   "metadata": {},
   "outputs": [],
   "source": [
    "#define the necessary libraries \n",
    "import tensorflow as tf \n",
    "\n",
    "import numpy as np \n",
    "import pandas as pd \n",
    "import matplotlib.pyplot as plt\n",
    "%matplotlib inline\n",
    "\n",
    "from keras.models import Sequential\n",
    "from keras.layers import InputLayer, Dense, BatchNormalization, Conv2D, MaxPool2D, Dropout, Flatten\n",
    "from keras.optimizers import RMSprop, Adam\n",
    "from keras.callbacks import EarlyStopping, ModelCheckpoint\n",
    "\n",
    "from sklearn.metrics import accuracy_score\n",
    "from sklearn.model_selection import train_test_split"
   ]
  },
  {
   "cell_type": "markdown",
   "metadata": {},
   "source": [
    "## 1. Load the DataSet"
   ]
  },
  {
   "cell_type": "code",
   "execution_count": 6,
   "metadata": {},
   "outputs": [],
   "source": [
    "data = pd.read_csv(\"Dataset/emergency_classification.csv\")"
   ]
  },
  {
   "cell_type": "code",
   "execution_count": 7,
   "metadata": {},
   "outputs": [
    {
     "data": {
      "text/html": [
       "<div>\n",
       "<style scoped>\n",
       "    .dataframe tbody tr th:only-of-type {\n",
       "        vertical-align: middle;\n",
       "    }\n",
       "\n",
       "    .dataframe tbody tr th {\n",
       "        vertical-align: top;\n",
       "    }\n",
       "\n",
       "    .dataframe thead th {\n",
       "        text-align: right;\n",
       "    }\n",
       "</style>\n",
       "<table border=\"1\" class=\"dataframe\">\n",
       "  <thead>\n",
       "    <tr style=\"text-align: right;\">\n",
       "      <th></th>\n",
       "      <th>image_names</th>\n",
       "      <th>emergency_or_not</th>\n",
       "    </tr>\n",
       "  </thead>\n",
       "  <tbody>\n",
       "    <tr>\n",
       "      <th>0</th>\n",
       "      <td>0.jpg</td>\n",
       "      <td>1</td>\n",
       "    </tr>\n",
       "    <tr>\n",
       "      <th>1</th>\n",
       "      <td>1.jpg</td>\n",
       "      <td>1</td>\n",
       "    </tr>\n",
       "    <tr>\n",
       "      <th>2</th>\n",
       "      <td>2.jpg</td>\n",
       "      <td>1</td>\n",
       "    </tr>\n",
       "    <tr>\n",
       "      <th>3</th>\n",
       "      <td>3.jpg</td>\n",
       "      <td>1</td>\n",
       "    </tr>\n",
       "    <tr>\n",
       "      <th>4</th>\n",
       "      <td>4.jpg</td>\n",
       "      <td>1</td>\n",
       "    </tr>\n",
       "  </tbody>\n",
       "</table>\n",
       "</div>"
      ],
      "text/plain": [
       "  image_names  emergency_or_not\n",
       "0       0.jpg                 1\n",
       "1       1.jpg                 1\n",
       "2       2.jpg                 1\n",
       "3       3.jpg                 1\n",
       "4       4.jpg                 1"
      ]
     },
     "execution_count": 7,
     "metadata": {},
     "output_type": "execute_result"
    }
   ],
   "source": [
    "data.head()"
   ]
  },
  {
   "cell_type": "code",
   "execution_count": 25,
   "metadata": {},
   "outputs": [
    {
     "data": {
      "text/plain": [
       "(224, 224, 3)"
      ]
     },
     "execution_count": 25,
     "metadata": {},
     "output_type": "execute_result"
    }
   ],
   "source": [
    "\n",
    "test_image = plt.imread(\"Dataset/images/0.jpg\")\n",
    "test_image.shape"
   ]
  },
  {
   "cell_type": "code",
   "execution_count": 12,
   "metadata": {},
   "outputs": [],
   "source": [
    "#load the images \n",
    "\n",
    "X = []\n",
    "for image_name in data.image_names:\n",
    "    image = plt.imread(\"Dataset/images/\"+image_name)\n",
    "    X.append(image)\n",
    "\n",
    "X = np.array(X)\n",
    "\n",
    "y = data.emergency_or_not.values"
   ]
  },
  {
   "cell_type": "markdown",
   "metadata": {},
   "source": [
    "## 2. Preprocessing the data "
   ]
  },
  {
   "cell_type": "code",
   "execution_count": 13,
   "metadata": {},
   "outputs": [],
   "source": [
    "X = X / X.max()"
   ]
  },
  {
   "cell_type": "code",
   "execution_count": 15,
   "metadata": {},
   "outputs": [],
   "source": []
  },
  {
   "cell_type": "markdown",
   "metadata": {},
   "source": [
    "## 3 Creating the training and Validation set "
   ]
  },
  {
   "cell_type": "code",
   "execution_count": 16,
   "metadata": {},
   "outputs": [],
   "source": [
    "X_train, X_valid, y_train, y_valid = train_test_split( X, y, test_size=0.3 )"
   ]
  },
  {
   "cell_type": "code",
   "execution_count": 17,
   "metadata": {},
   "outputs": [
    {
     "data": {
      "text/plain": [
       "(((1646, 224, 224, 3), (1646,)), ((706, 224, 224, 3), (706,)))"
      ]
     },
     "execution_count": 17,
     "metadata": {},
     "output_type": "execute_result"
    }
   ],
   "source": [
    "(X_train.shape, y_train.shape), (X_valid.shape, y_valid.shape)"
   ]
  },
  {
   "cell_type": "markdown",
   "metadata": {},
   "source": [
    "## 4 Defining the model architecture"
   ]
  },
  {
   "cell_type": "code",
   "execution_count": 48,
   "metadata": {},
   "outputs": [],
   "source": [
    "model = Sequential()\n",
    "\n",
    "model.add(InputLayer(input_shape=(224,224,3)))\n",
    "model.add(Conv2D(20,(5,5), activation='relu', strides=(1,1), padding='same'))\n",
    "model.add(MaxPool2D( pool_size=(4,4), padding='same'))\n",
    "model.add(Conv2D(30, (5,5), activation='relu', strides=(1,1), padding='same'))\n",
    "model.add(MaxPool2D( pool_size=(4,4), padding='same'))\n",
    "\n",
    "model.add(Flatten())\n",
    "model.add(Dense(units=100, activation='sigmoid'))\n",
    "model.add(BatchNormalization())\n",
    "model.add(Dropout(rate=0.6))\n",
    "model.add(Dense(units=1, activation='sigmoid'))\n",
    "\n",
    "\n"
   ]
  },
  {
   "cell_type": "code",
   "execution_count": 49,
   "metadata": {},
   "outputs": [
    {
     "name": "stdout",
     "output_type": "stream",
     "text": [
      "Model: \"sequential_2\"\n",
      "_________________________________________________________________\n",
      "Layer (type)                 Output Shape              Param #   \n",
      "=================================================================\n",
      "conv2d_6 (Conv2D)            (None, 224, 224, 20)      1520      \n",
      "_________________________________________________________________\n",
      "max_pooling2d_6 (MaxPooling2 (None, 56, 56, 20)        0         \n",
      "_________________________________________________________________\n",
      "conv2d_7 (Conv2D)            (None, 56, 56, 30)        15030     \n",
      "_________________________________________________________________\n",
      "max_pooling2d_7 (MaxPooling2 (None, 14, 14, 30)        0         \n",
      "_________________________________________________________________\n",
      "flatten_2 (Flatten)          (None, 5880)              0         \n",
      "_________________________________________________________________\n",
      "dense_5 (Dense)              (None, 100)               588100    \n",
      "_________________________________________________________________\n",
      "batch_normalization_2 (Batch (None, 100)               400       \n",
      "_________________________________________________________________\n",
      "dropout_2 (Dropout)          (None, 100)               0         \n",
      "_________________________________________________________________\n",
      "dense_6 (Dense)              (None, 1)                 101       \n",
      "=================================================================\n",
      "Total params: 605,151\n",
      "Trainable params: 604,951\n",
      "Non-trainable params: 200\n",
      "_________________________________________________________________\n"
     ]
    }
   ],
   "source": [
    "model.summary()"
   ]
  },
  {
   "cell_type": "markdown",
   "metadata": {},
   "source": [
    "## 5 Compile the model "
   ]
  },
  {
   "cell_type": "code",
   "execution_count": 50,
   "metadata": {},
   "outputs": [],
   "source": [
    "#rsmProp = RMSprop(0.001=1e-07, learning_rate=0.001)\n",
    "model.compile(loss='binary_crossentropy', optimizer='RMSprop', metrics=['accuracy'])"
   ]
  },
  {
   "cell_type": "markdown",
   "metadata": {},
   "source": [
    "## 6 Train the model\n"
   ]
  },
  {
   "cell_type": "code",
   "execution_count": 51,
   "metadata": {},
   "outputs": [],
   "source": [
    "early_stopping = EarlyStopping( monitor=\"val_loss\", min_delta=0.01 , patience=5, mode=\"min\")\n",
    "filepath = \"weights.hdf5\"\n",
    "checkpoint = ModelCheckpoint(filepath, monitor=\"val_accuracy\", verbose=1, save_best_only=True, mode=\"max\")\n",
    "callback_list= [early_stopping, checkpoint]"
   ]
  },
  {
   "cell_type": "code",
   "execution_count": 52,
   "metadata": {},
   "outputs": [
    {
     "name": "stdout",
     "output_type": "stream",
     "text": [
      "Epoch 1/10\n",
      "13/13 [==============================] - ETA: 0s - loss: 0.6873 - accuracy: 0.7060\n",
      "Epoch 00001: val_accuracy improved from -inf to 0.58782, saving model to weights.hdf5\n",
      "13/13 [==============================] - 20s 2s/step - loss: 0.6873 - accuracy: 0.7060 - val_loss: 0.7735 - val_accuracy: 0.5878\n",
      "Epoch 2/10\n",
      "13/13 [==============================] - ETA: 0s - loss: 0.3834 - accuracy: 0.8335\n",
      "Epoch 00002: val_accuracy did not improve from 0.58782\n",
      "13/13 [==============================] - 21s 2s/step - loss: 0.3834 - accuracy: 0.8335 - val_loss: 0.7687 - val_accuracy: 0.5878\n",
      "Epoch 3/10\n",
      "13/13 [==============================] - ETA: 0s - loss: 0.3154 - accuracy: 0.8633\n",
      "Epoch 00003: val_accuracy did not improve from 0.58782\n",
      "13/13 [==============================] - 20s 2s/step - loss: 0.3154 - accuracy: 0.8633 - val_loss: 0.7256 - val_accuracy: 0.5878\n",
      "Epoch 4/10\n",
      "13/13 [==============================] - ETA: 0s - loss: 0.2407 - accuracy: 0.9070\n",
      "Epoch 00004: val_accuracy did not improve from 0.58782\n",
      "13/13 [==============================] - 19s 1s/step - loss: 0.2407 - accuracy: 0.9070 - val_loss: 0.6782 - val_accuracy: 0.5878\n",
      "Epoch 5/10\n",
      "13/13 [==============================] - ETA: 0s - loss: 0.2020 - accuracy: 0.9247\n",
      "Epoch 00005: val_accuracy did not improve from 0.58782\n",
      "13/13 [==============================] - 20s 2s/step - loss: 0.2020 - accuracy: 0.9247 - val_loss: 0.6686 - val_accuracy: 0.5878\n",
      "Epoch 6/10\n",
      "13/13 [==============================] - ETA: 0s - loss: 0.1701 - accuracy: 0.9362\n",
      "Epoch 00006: val_accuracy did not improve from 0.58782\n",
      "13/13 [==============================] - 21s 2s/step - loss: 0.1701 - accuracy: 0.9362 - val_loss: 0.6500 - val_accuracy: 0.5878\n",
      "Epoch 7/10\n",
      "13/13 [==============================] - ETA: 0s - loss: 0.1036 - accuracy: 0.9635\n",
      "Epoch 00007: val_accuracy improved from 0.58782 to 0.59915, saving model to weights.hdf5\n",
      "13/13 [==============================] - 20s 2s/step - loss: 0.1036 - accuracy: 0.9635 - val_loss: 0.5888 - val_accuracy: 0.5992\n",
      "Epoch 8/10\n",
      "13/13 [==============================] - ETA: 0s - loss: 0.0889 - accuracy: 0.9672\n",
      "Epoch 00008: val_accuracy did not improve from 0.59915\n",
      "13/13 [==============================] - 21s 2s/step - loss: 0.0889 - accuracy: 0.9672 - val_loss: 0.7095 - val_accuracy: 0.5878\n",
      "Epoch 9/10\n",
      "13/13 [==============================] - ETA: 0s - loss: 0.0679 - accuracy: 0.9806\n",
      "Epoch 00009: val_accuracy improved from 0.59915 to 0.80595, saving model to weights.hdf5\n",
      "13/13 [==============================] - 20s 2s/step - loss: 0.0679 - accuracy: 0.9806 - val_loss: 0.5389 - val_accuracy: 0.8059\n",
      "Epoch 10/10\n",
      "13/13 [==============================] - ETA: 0s - loss: 0.0620 - accuracy: 0.9818\n",
      "Epoch 00010: val_accuracy did not improve from 0.80595\n",
      "13/13 [==============================] - 20s 2s/step - loss: 0.0620 - accuracy: 0.9818 - val_loss: 0.5219 - val_accuracy: 0.7380\n"
     ]
    }
   ],
   "source": [
    "model_result = model.fit( X_train, y_train, epochs=10, batch_size=128,validation_data=(X_valid, y_valid), callbacks=callback_list)"
   ]
  },
  {
   "cell_type": "code",
   "execution_count": 53,
   "metadata": {},
   "outputs": [
    {
     "name": "stdout",
     "output_type": "stream",
     "text": [
      "Accuracy on the training set  0.7739975698663426 %\n"
     ]
    }
   ],
   "source": [
    "print(\"Accuracy on the training set \", accuracy_score(y_train, model.predict_classes(X_train)), \"%\")"
   ]
  },
  {
   "cell_type": "code",
   "execution_count": 54,
   "metadata": {},
   "outputs": [
    {
     "name": "stdout",
     "output_type": "stream",
     "text": [
      "Accuracy on the validation set  0.7379603399433428 %\n"
     ]
    }
   ],
   "source": [
    "print(\"Accuracy on the validation set \", accuracy_score(y_valid, model.predict_classes(X_valid)),\"%\")"
   ]
  },
  {
   "cell_type": "code",
   "execution_count": 55,
   "metadata": {},
   "outputs": [
    {
     "data": {
      "image/png": "[encoded data removed]",
      "text/plain": [
       "<Figure size 432x288 with 1 Axes>"
      ]
     },
     "metadata": {
      "needs_background": "light"
     },
     "output_type": "display_data"
    }
   ],
   "source": [
    "# plot the history for loss\n",
    "plt.plot(model_result.history[\"loss\"])\n",
    "plt.plot(model_result.history[\"val_loss\"])\n",
    "plt.title('Model Loss')\n",
    "plt.xlabel('Epochs')\n",
    "plt.ylabel('Loss')\n",
    "plt.legend(['train','validation'], loc=\"upper left\")\n",
    "plt.show()"
   ]
  },
  {
   "cell_type": "code",
   "execution_count": 56,
   "metadata": {},
   "outputs": [
    {
     "data": {
      "image/png": "[encoded data removed]",
      "text/plain": [
       "<Figure size 432x288 with 1 Axes>"
      ]
     },
     "metadata": {
      "needs_background": "light"
     },
     "output_type": "display_data"
    }
   ],
   "source": [
    "# plot the history for loss\n",
    "plt.plot(model_result.history[\"accuracy\"])\n",
    "plt.plot(model_result.history[\"val_accuracy\"])\n",
    "plt.title('Model Accuracy')\n",
    "plt.xlabel('Epochs')\n",
    "plt.ylabel('Accuracy')\n",
    "plt.legend(['train','validation'], loc=\"upper left\")\n",
    "plt.show()"
   ]
  },
  {
   "cell_type": "code",
   "execution_count": null,
   "metadata": {},
   "outputs": [],
   "source": []
  }
 ],
 "metadata": {
  "kernelspec": {
   "display_name": "Python 3",
   "language": "python",
   "name": "python3"
  },
  "language_info": {
   "codemirror_mode": {
    "name": "ipython",
    "version": 3
   },
   "file_extension": ".py",
   "mimetype": "text/x-python",
   "name": "python",
   "nbconvert_exporter": "python",
   "pygments_lexer": "ipython3",
   "version": "3.7.9"
  }
 },
 "nbformat": 4,
 "nbformat_minor": 4
}
